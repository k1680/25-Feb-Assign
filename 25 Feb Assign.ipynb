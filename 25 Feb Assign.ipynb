{
 "cells": [
  {
   "cell_type": "code",
   "execution_count": 1,
   "id": "05cedbf9-ea7d-438f-83c3-9ebff5b770a9",
   "metadata": {},
   "outputs": [
    {
     "data": {
      "text/html": [
       "<div>\n",
       "<style scoped>\n",
       "    .dataframe tbody tr th:only-of-type {\n",
       "        vertical-align: middle;\n",
       "    }\n",
       "\n",
       "    .dataframe tbody tr th {\n",
       "        vertical-align: top;\n",
       "    }\n",
       "\n",
       "    .dataframe thead th {\n",
       "        text-align: right;\n",
       "    }\n",
       "</style>\n",
       "<table border=\"1\" class=\"dataframe\">\n",
       "  <thead>\n",
       "    <tr style=\"text-align: right;\">\n",
       "      <th></th>\n",
       "      <th>course_name</th>\n",
       "      <th>duration</th>\n",
       "    </tr>\n",
       "  </thead>\n",
       "  <tbody>\n",
       "    <tr>\n",
       "      <th>0</th>\n",
       "      <td>Data Science</td>\n",
       "      <td>2</td>\n",
       "    </tr>\n",
       "    <tr>\n",
       "      <th>1</th>\n",
       "      <td>Machine Learning</td>\n",
       "      <td>3</td>\n",
       "    </tr>\n",
       "    <tr>\n",
       "      <th>2</th>\n",
       "      <td>Big Data</td>\n",
       "      <td>6</td>\n",
       "    </tr>\n",
       "    <tr>\n",
       "      <th>3</th>\n",
       "      <td>Data Engineer</td>\n",
       "      <td>4</td>\n",
       "    </tr>\n",
       "  </tbody>\n",
       "</table>\n",
       "</div>"
      ],
      "text/plain": [
       "        course_name  duration\n",
       "0      Data Science         2\n",
       "1  Machine Learning         3\n",
       "2          Big Data         6\n",
       "3     Data Engineer         4"
      ]
     },
     "execution_count": 1,
     "metadata": {},
     "output_type": "execute_result"
    }
   ],
   "source": [
    "import pandas as pd\n",
    "course_name = ['Data Science', 'Machine Learning', 'Big Data', 'Data Engineer']\n",
    "duration = [2,3,6,4]\n",
    "df = pd.DataFrame(data = {'course_name' : course_name, 'duration' : duration})\n",
    "df"
   ]
  },
  {
   "cell_type": "code",
   "execution_count": 2,
   "id": "91eb6a5f-1634-4448-be98-7d0472b2c60e",
   "metadata": {},
   "outputs": [
    {
     "name": "stdout",
     "output_type": "stream",
     "text": [
      "['Machine Learning', 3]\n"
     ]
    }
   ],
   "source": [
    "\"\"\"Q1. Write a code to print the data present in the second row of the dataframe, df.\"\"\"\n",
    "\n",
    "print(list(df.iloc[1]))"
   ]
  },
  {
   "cell_type": "code",
   "execution_count": 3,
   "id": "632f8520-996b-4959-9329-1054b38351e0",
   "metadata": {},
   "outputs": [
    {
     "data": {
      "text/plain": [
       "\"Q2. What is the difference between the functions loc and iloc in pandas.DataFrame?\\n    Ans: In layman's terms, loc in Pandas DataFrame is used to select data by labels (row/column names), while iloc is used to select data by integer index positions. \\n         loc is more explicit and requires column/row names, while iloc uses integer positions.\\n\""
      ]
     },
     "execution_count": 3,
     "metadata": {},
     "output_type": "execute_result"
    }
   ],
   "source": [
    "\"\"\"Q2. What is the difference between the functions loc and iloc in pandas.DataFrame?\n",
    "    Ans: In layman's terms, loc in Pandas DataFrame is used to select data by labels (row/column names), while iloc is used to select data by integer index positions. \n",
    "         loc is more explicit and requires column/row names, while iloc uses integer positions.\n",
    "\"\"\""
   ]
  },
  {
   "cell_type": "code",
   "execution_count": 4,
   "id": "ed91d678-da06-44ab-a2b6-f2e9ce51ec16",
   "metadata": {},
   "outputs": [
    {
     "name": "stdout",
     "output_type": "stream",
     "text": [
      "['Big Data', 6]\n",
      "['Machine Learning', 3]\n"
     ]
    }
   ],
   "source": [
    "\"\"\"Q3. Reindex the given dataframe using a variable, reindex = [3,0,1,2] and store it in the variable, new_df then find the output for both new_df.loc[2] and new_df.iloc[2].\n",
    "    Did you observe any difference in both the outputs? If so then explain it.\n",
    "\"\"\"\n",
    "\n",
    "reindex = [3,0,1,2]\n",
    "new_df = df.reindex(reindex)\n",
    "print(list(new_df.loc[2]))\n",
    "print(list(new_df.iloc[2]))\n",
    "\n",
    "# loc[] gives the index named 2\n",
    "# iloc[] give the 2nd item from top"
   ]
  },
  {
   "cell_type": "code",
   "execution_count": 5,
   "id": "f5a89cc5-08bd-4dc2-b02a-9d8139a12fca",
   "metadata": {},
   "outputs": [
    {
     "data": {
      "text/html": [
       "<div>\n",
       "<style scoped>\n",
       "    .dataframe tbody tr th:only-of-type {\n",
       "        vertical-align: middle;\n",
       "    }\n",
       "\n",
       "    .dataframe tbody tr th {\n",
       "        vertical-align: top;\n",
       "    }\n",
       "\n",
       "    .dataframe thead th {\n",
       "        text-align: right;\n",
       "    }\n",
       "</style>\n",
       "<table border=\"1\" class=\"dataframe\">\n",
       "  <thead>\n",
       "    <tr style=\"text-align: right;\">\n",
       "      <th></th>\n",
       "      <th>column_1</th>\n",
       "      <th>column_2</th>\n",
       "      <th>column_3</th>\n",
       "      <th>column_4</th>\n",
       "      <th>column_5</th>\n",
       "      <th>column_6</th>\n",
       "    </tr>\n",
       "  </thead>\n",
       "  <tbody>\n",
       "    <tr>\n",
       "      <th>1</th>\n",
       "      <td>0.674255</td>\n",
       "      <td>0.935197</td>\n",
       "      <td>0.711913</td>\n",
       "      <td>0.583463</td>\n",
       "      <td>0.286906</td>\n",
       "      <td>0.156136</td>\n",
       "    </tr>\n",
       "    <tr>\n",
       "      <th>2</th>\n",
       "      <td>0.812681</td>\n",
       "      <td>0.715801</td>\n",
       "      <td>0.743273</td>\n",
       "      <td>0.055401</td>\n",
       "      <td>0.621657</td>\n",
       "      <td>0.803294</td>\n",
       "    </tr>\n",
       "    <tr>\n",
       "      <th>3</th>\n",
       "      <td>0.708834</td>\n",
       "      <td>0.927880</td>\n",
       "      <td>0.263790</td>\n",
       "      <td>0.430704</td>\n",
       "      <td>0.925483</td>\n",
       "      <td>0.722257</td>\n",
       "    </tr>\n",
       "    <tr>\n",
       "      <th>4</th>\n",
       "      <td>0.359039</td>\n",
       "      <td>0.615584</td>\n",
       "      <td>0.933178</td>\n",
       "      <td>0.832675</td>\n",
       "      <td>0.947845</td>\n",
       "      <td>0.985379</td>\n",
       "    </tr>\n",
       "    <tr>\n",
       "      <th>5</th>\n",
       "      <td>0.916502</td>\n",
       "      <td>0.684271</td>\n",
       "      <td>0.029837</td>\n",
       "      <td>0.468171</td>\n",
       "      <td>0.383268</td>\n",
       "      <td>0.640793</td>\n",
       "    </tr>\n",
       "    <tr>\n",
       "      <th>6</th>\n",
       "      <td>0.798918</td>\n",
       "      <td>0.918828</td>\n",
       "      <td>0.465228</td>\n",
       "      <td>0.343355</td>\n",
       "      <td>0.378282</td>\n",
       "      <td>0.562890</td>\n",
       "    </tr>\n",
       "  </tbody>\n",
       "</table>\n",
       "</div>"
      ],
      "text/plain": [
       "   column_1  column_2  column_3  column_4  column_5  column_6\n",
       "1  0.674255  0.935197  0.711913  0.583463  0.286906  0.156136\n",
       "2  0.812681  0.715801  0.743273  0.055401  0.621657  0.803294\n",
       "3  0.708834  0.927880  0.263790  0.430704  0.925483  0.722257\n",
       "4  0.359039  0.615584  0.933178  0.832675  0.947845  0.985379\n",
       "5  0.916502  0.684271  0.029837  0.468171  0.383268  0.640793\n",
       "6  0.798918  0.918828  0.465228  0.343355  0.378282  0.562890"
      ]
     },
     "execution_count": 5,
     "metadata": {},
     "output_type": "execute_result"
    }
   ],
   "source": [
    "import pandas as pd\n",
    "import numpy as np\n",
    "columns = ['column_1', 'column_2', 'column_3', 'column_4', 'column_5', 'column_6']\n",
    "indices = [1,2,3,4,5,6]\n",
    "#Creating a dataframe:\n",
    "df1 = pd.DataFrame(np.random.rand(6,6), columns = columns, index = indices)\n",
    "df1"
   ]
  },
  {
   "cell_type": "code",
   "execution_count": 6,
   "id": "acd6840d-d783-49b7-87a1-3f672fe0b2e2",
   "metadata": {},
   "outputs": [
    {
     "name": "stdout",
     "output_type": "stream",
     "text": [
      "column_1    1.303236\n",
      "column_2    1.366144\n",
      "column_3    1.182776\n",
      "column_4    1.120916\n",
      "column_5    1.230878\n",
      "column_6    1.264224\n",
      "dtype: float64\n",
      "\n",
      "1.889314932166339\n"
     ]
    }
   ],
   "source": [
    "\"\"\"Q4. Write a code to find the following statistical measurements for the above dataframe df1:\n",
    "    (i) mean of each and every column present in the dataframe.\n",
    "    (ii) standard deviation of column, 'column_2'\"\"\"\n",
    "# (i) mean of each and every column present in the dataframe.\n",
    "print(df1.describe().mean())\n",
    "\n",
    "print()\n",
    "# (ii) standard deviation of column, 'column_2'\n",
    "print(df1.describe()['column_2'].std())"
   ]
  },
  {
   "cell_type": "code",
   "execution_count": 7,
   "id": "58e3e535-c681-480a-88b0-1b8340eafc79",
   "metadata": {},
   "outputs": [
    {
     "data": {
      "text/plain": [
       "20576.0"
      ]
     },
     "execution_count": 7,
     "metadata": {},
     "output_type": "execute_result"
    }
   ],
   "source": [
    "\"\"\"Q5. Replace the data present in the second row of column, ‘column_2’ by a string variable then find the mean of column, column_2.\n",
    "    If you are getting errors in executing it then explain why.\n",
    "    [Hint: To replace the data use df1.loc[] and equate this to string data of your choice.]\"\"\"\n",
    "\n",
    "df1.loc[:,['column_2']] = ['1','2','3','4','5','6']\n",
    "df1['column_2'].mean()\n"
   ]
  },
  {
   "cell_type": "code",
   "execution_count": 8,
   "id": "318261f5-c9d1-4c79-8c84-92477f239772",
   "metadata": {},
   "outputs": [
    {
     "data": {
      "text/plain": [
       "'Ans: Pandas window functions analyze and compare data points over a given time period or moving window. \\n        They allow calculations to be performed on a sliding or rolling window, with several types available such as rolling, expanding, EWM, and Groupby. \\n        These functions help gain insights from time series or other data analysis.'"
      ]
     },
     "execution_count": 8,
     "metadata": {},
     "output_type": "execute_result"
    }
   ],
   "source": [
    "\"\"\"Q6. What do you understand about the windows function in pandas and list the types of windows\n",
    "functions?\"\"\"\n",
    "\n",
    "\"\"\"Ans: Pandas window functions analyze and compare data points over a given time period or moving window. \n",
    "        They allow calculations to be performed on a sliding or rolling window, with several types available such as rolling, expanding, EWM, and Groupby. \n",
    "        These functions help gain insights from time series or other data analysis.\"\"\""
   ]
  },
  {
   "cell_type": "code",
   "execution_count": 9,
   "id": "5fed2dc5-9a66-453f-84c0-13f1067dafec",
   "metadata": {},
   "outputs": [
    {
     "name": "stdout",
     "output_type": "stream",
     "text": [
      "2\n",
      "2024\n"
     ]
    },
    {
     "name": "stderr",
     "output_type": "stream",
     "text": [
      "/tmp/ipykernel_1365/1978449648.py:4: FutureWarning: The pandas.datetime class is deprecated and will be removed from pandas in a future version. Import from datetime module instead.\n",
      "  print(pd.datetime.now().month)\n",
      "/tmp/ipykernel_1365/1978449648.py:5: FutureWarning: The pandas.datetime class is deprecated and will be removed from pandas in a future version. Import from datetime module instead.\n",
      "  print(pd.datetime.now().year)\n"
     ]
    }
   ],
   "source": [
    "\"\"\"Q7. Write a code to print only the current month and year at the time of answering this question.\n",
    "[Hint: Use pandas.datetime function]\"\"\"\n",
    "\n",
    "print(pd.datetime.now().month)\n",
    "print(pd.datetime.now().year)"
   ]
  },
  {
   "cell_type": "code",
   "execution_count": 10,
   "id": "a5726573-b240-4b07-9f43-60142d10c27a",
   "metadata": {},
   "outputs": [
    {
     "name": "stdout",
     "output_type": "stream",
     "text": [
      "Diffenrece in days is 7\n",
      "Diffenrece in hours is 168\n",
      "Diffenrece in minutes is 604800\n"
     ]
    }
   ],
   "source": [
    "\"\"\"Q8. Write a Python program that takes in two dates as input (in the format YYYY-MM-DD) and calculates the difference between them in days, hours, and minutes \n",
    "       using Pandas time delta. The program should prompt the user to enter the dates and display the result.\"\"\"\n",
    "\n",
    "# d1 = pd.to_datetime(input())\n",
    "# d2 = pd.to_datetime(input())\n",
    "d1 = pd.to_datetime('2023-03-17')\n",
    "d2 = pd.to_datetime('2023-03-10')\n",
    "days_diff = d1.day - d2.day\n",
    "print(f\"Diffenrece in days is {days_diff}\")\n",
    "print(f\"Diffenrece in hours is {days_diff * 24}\")\n",
    "print(f\"Diffenrece in minutes is {days_diff * 24 * 60 * 60}\")"
   ]
  },
  {
   "cell_type": "code",
   "execution_count": null,
   "id": "4f1bf35a-f3ee-4681-b9c8-00cb5adf2adb",
   "metadata": {},
   "outputs": [],
   "source": [
    "\"\"\"Q9. Write a Python program that reads a CSV file containing categorical data and converts a specified column to a categorical data type. \n",
    "       The program should prompt the user to enter the file path, column name, and category order, and then display the sorted data.\"\"\"\n",
    "file_path = input(\"File path: \")\n",
    "df = pd.read_csv(file_path)\n",
    "column_name = input(\"Column name: \")\n",
    "cat_order = input(\"Category order: \")\n",
    "\n",
    "cat_order = cat_order.split(\",\")\n",
    "df[column_name] = pd.Categorical(df[column_name], categories=cat_order)\n",
    "df = df.sort_values(column_name)\n",
    "\n",
    "print(df)"
   ]
  },
  {
   "cell_type": "code",
   "execution_count": null,
   "id": "70981673-c955-4c5b-9a78-320d956cde91",
   "metadata": {},
   "outputs": [],
   "source": [
    "\"\"\"Q10. Write a Python program that reads a CSV file containing sales data for different products and visualizes the data using a stacked bar chart to show the sales \n",
    "        of each product category over time. The program should prompt the user to enter the file path and display the chart.\"\"\"\n",
    "\n",
    "file_path = input(\"File path: \")\n",
    "df = pd.read_csv(file_path)\n",
    "sales_data = df.groupby(['Product Category', 'Date'])['Sales'].sum().unstack()\n",
    "sales_data.plot(kind='bar', stacked=True)\n",
    "plt.title('Sales by Product Category')\n",
    "plt.xlabel('Date')\n",
    "plt.ylabel('Sales')"
   ]
  },
  {
   "cell_type": "code",
   "execution_count": null,
   "id": "1d173f99-ff75-4372-ade2-a43f6af689ea",
   "metadata": {},
   "outputs": [],
   "source": []
  }
 ],
 "metadata": {
  "kernelspec": {
   "display_name": "Python 3 (ipykernel)",
   "language": "python",
   "name": "python3"
  },
  "language_info": {
   "codemirror_mode": {
    "name": "ipython",
    "version": 3
   },
   "file_extension": ".py",
   "mimetype": "text/x-python",
   "name": "python",
   "nbconvert_exporter": "python",
   "pygments_lexer": "ipython3",
   "version": "3.10.8"
  }
 },
 "nbformat": 4,
 "nbformat_minor": 5
}
